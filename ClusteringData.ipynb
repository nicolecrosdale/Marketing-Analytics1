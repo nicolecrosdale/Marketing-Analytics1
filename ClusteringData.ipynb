{
  "nbformat": 4,
  "nbformat_minor": 0,
  "metadata": {
    "colab": {
      "name": "ClusteringData.ipynb",
      "provenance": []
    },
    "kernelspec": {
      "name": "python3",
      "display_name": "Python 3"
    },
    "language_info": {
      "name": "python"
    }
  },
  "cells": [
    {
      "cell_type": "code",
      "execution_count": 1,
      "metadata": {
        "colab": {
          "base_uri": "https://localhost:8080/",
          "height": 1000
        },
        "id": "WHlX2g9XWMnA",
        "outputId": "8fe74a06-8813-4657-8ce2-f1ea0bc9cd33"
      },
      "outputs": [
        {
          "output_type": "stream",
          "name": "stdout",
          "text": [
            "Collecting factor_analyzer\n",
            "  Downloading factor_analyzer-0.4.0.tar.gz (41 kB)\n",
            "\u001b[?25l\r\u001b[K     |███████▉                        | 10 kB 16.3 MB/s eta 0:00:01\r\u001b[K     |███████████████▊                | 20 kB 18.1 MB/s eta 0:00:01\r\u001b[K     |███████████████████████▋        | 30 kB 12.3 MB/s eta 0:00:01\r\u001b[K     |███████████████████████████████▌| 40 kB 10.0 MB/s eta 0:00:01\r\u001b[K     |████████████████████████████████| 41 kB 347 kB/s \n",
            "\u001b[?25hRequirement already satisfied: pandas in /usr/local/lib/python3.7/dist-packages (from factor_analyzer) (1.3.5)\n",
            "Requirement already satisfied: scipy in /usr/local/lib/python3.7/dist-packages (from factor_analyzer) (1.4.1)\n",
            "Requirement already satisfied: numpy in /usr/local/lib/python3.7/dist-packages (from factor_analyzer) (1.19.5)\n",
            "Requirement already satisfied: scikit-learn in /usr/local/lib/python3.7/dist-packages (from factor_analyzer) (1.0.2)\n",
            "Requirement already satisfied: python-dateutil>=2.7.3 in /usr/local/lib/python3.7/dist-packages (from pandas->factor_analyzer) (2.8.2)\n",
            "Requirement already satisfied: pytz>=2017.3 in /usr/local/lib/python3.7/dist-packages (from pandas->factor_analyzer) (2018.9)\n",
            "Requirement already satisfied: six>=1.5 in /usr/local/lib/python3.7/dist-packages (from python-dateutil>=2.7.3->pandas->factor_analyzer) (1.15.0)\n",
            "Requirement already satisfied: joblib>=0.11 in /usr/local/lib/python3.7/dist-packages (from scikit-learn->factor_analyzer) (1.1.0)\n",
            "Requirement already satisfied: threadpoolctl>=2.0.0 in /usr/local/lib/python3.7/dist-packages (from scikit-learn->factor_analyzer) (3.1.0)\n",
            "Building wheels for collected packages: factor-analyzer\n",
            "  Building wheel for factor-analyzer (setup.py) ... \u001b[?25l\u001b[?25hdone\n",
            "  Created wheel for factor-analyzer: filename=factor_analyzer-0.4.0-py3-none-any.whl size=41455 sha256=e21c8e9b84182058d53578c52670624662ecd7049048e16fac460b0a1b45b072\n",
            "  Stored in directory: /root/.cache/pip/wheels/ac/00/37/1f0e8a5039f9e9f207c4405bbce0796f07701eb377bfc6cc76\n",
            "Successfully built factor-analyzer\n",
            "Installing collected packages: factor-analyzer\n",
            "Successfully installed factor-analyzer-0.4.0\n",
            "     subjnumb  kidtrans  miniboxy  lthrbetr  ...  numkids  female  educ  recycle\n",
            "0           1         6         5         2  ...        1       0     1        3\n",
            "1           2         3         5         3  ...        1       0     3        4\n",
            "2           3         7         1         5  ...        2       1     3        3\n",
            "3           4         3         5         3  ...        0       0     3        2\n",
            "4           5         4         3         6  ...        1       1     3        4\n",
            "..        ...       ...       ...       ...  ...      ...     ...   ...      ...\n",
            "395       396         3         6         3  ...        0       0     3        3\n",
            "396       397         1         4         1  ...        0       0     1        5\n",
            "397       398         4         7         6  ...        0       0     4        5\n",
            "398       399         5         7         5  ...        3       1     3        3\n",
            "399       400         5         3         3  ...        2       1     2        2\n",
            "\n",
            "[400 rows x 39 columns]\n"
          ]
        },
        {
          "output_type": "display_data",
          "data": {
            "image/png": "[encoded data removed]",
            "text/plain": [
              "<Figure size 432x288 with 1 Axes>"
            ]
          },
          "metadata": {
            "needs_background": "light"
          }
        },
        {
          "output_type": "stream",
          "name": "stdout",
          "text": [
            "              age      income       miles     numkids      female        educ\n",
            "count  158.000000  158.000000  158.000000  158.000000  158.000000  158.000000\n",
            "mean    32.120253   36.575949   14.651899    0.689873    0.487342    2.050633\n",
            "std      5.296745   16.235643    3.567238    0.764681    0.501429    0.772105\n",
            "min     19.000000   15.000000    7.000000    0.000000    0.000000    1.000000\n",
            "25%     28.000000   25.000000   12.000000    0.000000    0.000000    1.000000\n",
            "50%     32.000000   32.000000   15.000000    1.000000    0.000000    2.000000\n",
            "75%     36.000000   45.000000   17.000000    1.000000    1.000000    3.000000\n",
            "max     48.000000  131.000000   24.000000    4.000000    1.000000    3.000000\n",
            "              age      income       miles     numkids      female        educ\n",
            "count  126.000000  126.000000  126.000000  126.000000  126.000000  126.000000\n",
            "mean    46.055556  103.873016   18.436508    1.214286    0.555556    3.261905\n",
            "std      5.918521   43.424783    3.540612    0.992831    0.498888    0.659437\n",
            "min     31.000000   41.000000   10.000000    0.000000    0.000000    1.000000\n",
            "25%     42.000000   73.250000   16.000000    0.250000    0.000000    3.000000\n",
            "50%     46.000000   95.500000   18.000000    1.000000    1.000000    3.000000\n",
            "75%     51.000000  126.000000   21.000000    2.000000    1.000000    4.000000\n",
            "max     60.000000  273.000000   27.000000    4.000000    1.000000    4.000000\n",
            "              age      income       miles     numkids      female        educ\n",
            "count  116.000000  116.000000  116.000000  116.000000  116.000000  116.000000\n",
            "mean    44.344828   83.146552   22.232759    1.948276    0.594828    3.336207\n",
            "std      5.811688   33.619160    4.175202    1.133251    0.493055    0.658641\n",
            "min     31.000000   28.000000   10.000000    0.000000    0.000000    2.000000\n",
            "25%     40.000000   59.000000   19.000000    1.000000    0.000000    3.000000\n",
            "50%     44.000000   78.500000   22.000000    2.000000    1.000000    3.000000\n",
            "75%     48.000000  105.750000   25.250000    3.000000    1.000000    4.000000\n",
            "max     58.000000  168.000000   32.000000    4.000000    1.000000    4.000000\n"
          ]
        },
        {
          "output_type": "execute_result",
          "data": {
            "text/plain": [
              "[-1.5995498147495253,\n",
              " -0.6454911848092563,\n",
              " -1.1536513238605939,\n",
              " -0.11485513072120533,\n",
              " -0.33164772635228346]"
            ]
          },
          "metadata": {},
          "execution_count": 1
        },
        {
          "output_type": "display_data",
          "data": {
            "image/png": "[encoded data removed]",
            "text/plain": [
              "<Figure size 432x288 with 1 Axes>"
            ]
          },
          "metadata": {
            "needs_background": "light"
          }
        }
      ],
      "source": [
        "#Insert Factor Analyzer Package\n",
        "!pip install factor_analyzer\n",
        "#Import packages to compute and analyze data\n",
        "import pandas as pd\n",
        "import matplotlib.pyplot as plt\n",
        "import numpy as np\n",
        "from factor_analyzer import FactorAnalyzer\n",
        "from factor_analyzer.factor_analyzer import calculate_bartlett_sphericity \n",
        "from factor_analyzer.factor_analyzer import calculate_kmo\n",
        "from scipy.cluster.hierarchy import dendrogram, linkage\n",
        "from sklearn.cluster import KMeans\n",
        "import matplotlib.pyplot as plt\n",
        "def load_data(file):                                                    \n",
        "    return pd.read_csv(file, sep = \",\", index_col = False)\n",
        "def plot_eigenvalue(eigenvalues):\n",
        "    plt.figure(1)\n",
        "    plt.scatter(range(1,len(eigenvalues) + 1), eigenvalues)\n",
        "    plt.plot(range(1,len(eigenvalues) + 1), eigenvalues)\n",
        "    plt.title('Screen Plot')\n",
        "    plt.xlabel('Factors')\n",
        "    plt.ylabel('Eigenvalue')\n",
        "    plt.grid()\n",
        "    plt.show()\n",
        "def order_loadings(load_mat, bases):\n",
        "    load_mat_ord = pd.DataFrame(columns = range(1, len(load_mat[0]) + 1))\n",
        "    for i in range(0, len(load_mat[0])):\n",
        "        for j in range(0, len(load_mat)):\n",
        "            if (np.argmax(abs(load_mat[j])) == i):\n",
        "                load_mat_ord.loc[bases.columns[j]] = load_mat[j]\n",
        "    return load_mat_ord\n",
        "#upload data\n",
        "df=load_data(\"minivan.csv\")\n",
        "# shift column 'mvliking' to thirty-first position\n",
        "thirtyfirst_column = df.pop('mvliking') \n",
        "# insert column using insert(position,column_name,first_column) function\n",
        "df.insert(31, 'mvliking', thirtyfirst_column) \n",
        "print(df)\n",
        "#Determine Bases variables, and non-bases variables\n",
        "bases=df.iloc[:, 1:31]\n",
        "#demographics\n",
        "demog=df.iloc[:,32:38]\n",
        "#Get the P-value from the bartlett test to ensure data bases have variance \n",
        "#and are independent\n",
        "_, p_value= calculate_bartlett_sphericity(bases)\n",
        "\n",
        "#You want a Bartlett test p_value to be less than 0.05\n",
        "if (p_value> 0.05):\n",
        "  print(\"ERROR: Barlett test failed\")\n",
        "\n",
        "#KMO test is used to measure sample adequacy\n",
        "#Run KMO test\n",
        "_,kmo_value=calculate_kmo(bases)\n",
        "    \n",
        "#You want a kmo value more than 0.6\n",
        "if (kmo_value< 0.6):\n",
        "  print(\"ERROR: KMO test failed\")\n",
        "\n",
        "#Return how many items in a container\n",
        "FA=FactorAnalyzer(n_factors= len(bases.columns),rotation=None)\n",
        "\n",
        "FA.fit(bases)\n",
        "\n",
        "#Eigen values helps to evaluate how many factor should be considered \n",
        "#when condensing the data\n",
        "eigen,_=FA.get_eigenvalues()\n",
        "\n",
        "plot_eigenvalue(eigen)\n",
        "final_num_factors = 5\n",
        "\n",
        "FA_final = FactorAnalyzer(n_factors= final_num_factors, rotation= \"varimax\")\n",
        "FA_final.fit(bases)\n",
        "\n",
        "#Reduces bases down to the 5 columns which mak it simpler to analyze data\n",
        "red_mat=FA_final.fit_transform(bases)\n",
        "\n",
        "\n",
        "load_mat= FA_final.loadings_\n",
        "\n",
        "\n",
        "load_mat_ord=order_loadings(load_mat, bases)\n",
        "\n",
        "#Make sure these are in the correct order(put the names in order)\n",
        "factor_names=[\"Looks&Design\",\"Vehicle Size\",\"Storage\",\"Environmental Impact\",\"Risk\"]\n",
        "\n",
        "#Clustering\n",
        "dendrogram(linkage(red_mat, method='ward'))\n",
        "num_clusters=3\n",
        "\n",
        "kmeans_model = KMeans(n_clusters = num_clusters, random_state = 0).fit(red_mat)\n",
        "customer_assignment = kmeans_model.labels_\n",
        "\n",
        "centers=kmeans_model.cluster_centers_\n",
        "\n",
        "#Profiling\n",
        "cluster_names = [\"Sizer, Stylish, Everything Matters\"]\n",
        "\n",
        "#This tells me to keep the rows where people are assigned to the 0 \n",
        "#cluster-\"health seekers\"\n",
        "demog.iloc[customer_assignment==0, :].describe()\n",
        "\n",
        "#Use this to find the description of each customer in each cluster\n",
        "#Use the for loop below\n",
        "for segment in range (0, num_clusters):\n",
        "  print(demog.iloc[customer_assignment==segment, :].describe())\n",
        "\n",
        "customer_ten=[x for x in red_mat[9]]\n",
        "customer_ten\n",
        "\n",
        "\n",
        "\n",
        "\n",
        "\n",
        "\n",
        "\n"
      ]
    },
    {
      "cell_type": "markdown",
      "source": [
        "# New Section"
      ],
      "metadata": {
        "id": "GJZc8cPYqNTS"
      }
    }
  ]
}